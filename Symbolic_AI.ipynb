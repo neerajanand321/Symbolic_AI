{
  "cells": [
    {
      "cell_type": "markdown",
      "source": [
        "# Symbolic Calculation Project\n",
        " This notebook demonstrates the training of LSTM and Transformer model to learn the generated expansion of functions using Sympy\n"
      ],
      "metadata": {
        "id": "I-oVLFeRp6mV"
      }
    },
    {
      "cell_type": "code",
      "execution_count": 1,
      "metadata": {
        "colab": {
          "base_uri": "https://localhost:8080/"
        },
        "id": "SYzKRfyYB3BE",
        "outputId": "63f5fa37-00a5-4d9a-8a44-fa734cb5412a"
      },
      "outputs": [
        {
          "output_type": "stream",
          "name": "stdout",
          "text": [
            "Mounted at /content/drive\n"
          ]
        }
      ],
      "source": [
        "# Mounting colab to google drive\n",
        "from google.colab import drive\n",
        "drive.mount('/content/drive')"
      ]
    },
    {
      "cell_type": "code",
      "execution_count": 2,
      "metadata": {
        "colab": {
          "base_uri": "https://localhost:8080/"
        },
        "id": "9T47_1UeB5ND",
        "outputId": "234feb1b-08dc-4a6a-be52-b94254174e60"
      },
      "outputs": [
        {
          "output_type": "stream",
          "name": "stdout",
          "text": [
            "drive  sample_data\n"
          ]
        }
      ],
      "source": [
        "!ls"
      ]
    },
    {
      "cell_type": "code",
      "execution_count": 3,
      "metadata": {
        "colab": {
          "base_uri": "https://localhost:8080/"
        },
        "id": "Refprxl_B-XA",
        "outputId": "e7bc2d63-9595-4f72-c958-dbb72b26a061"
      },
      "outputs": [
        {
          "output_type": "stream",
          "name": "stdout",
          "text": [
            "/content/drive/MyDrive/Sympy\n"
          ]
        }
      ],
      "source": [
        "%cd drive/MyDrive/Sympy"
      ]
    },
    {
      "cell_type": "code",
      "execution_count": 4,
      "metadata": {
        "colab": {
          "base_uri": "https://localhost:8080/"
        },
        "id": "zPx1-0MrCHUD",
        "outputId": "772a7915-dd72-42a1-8b07-9db7a608a62d"
      },
      "outputs": [
        {
          "output_type": "stream",
          "name": "stdout",
          "text": [
            "dataset.py  model.py  __pycache__  train.py  utils.py\n"
          ]
        }
      ],
      "source": [
        "!ls"
      ]
    },
    {
      "cell_type": "markdown",
      "source": [
        "Importing Data class from dataset"
      ],
      "metadata": {
        "id": "Y1bM3Bv6qB0N"
      }
    },
    {
      "cell_type": "code",
      "execution_count": 5,
      "metadata": {
        "id": "rUpLpkORCIQg"
      },
      "outputs": [],
      "source": [
        "from dataset import Data\n",
        "from sympy import *"
      ]
    },
    {
      "cell_type": "code",
      "execution_count": 6,
      "metadata": {
        "id": "eI6lZBJYCaN0"
      },
      "outputs": [],
      "source": [
        "# Creating dataset for several functions upto 4th order of their expansion\n",
        "# Class is written in dataset.py\n",
        "order = 4\n",
        "x = symbols('x')\n",
        "types=[sin(x), cos(x), tan(x), log(1+x), exp(sin(x)), exp(tan(x)), cot(x), csc(x), sinc(x), asin(x), \n",
        "       acos(x), atan(x), acot(x), exp(x), exp(-x), exp(x**2), exp(2*x), sec(x), sqrt(1+x), sinh(x),\n",
        "       cosh(x), tanh(x), sech(x), asinh(x), atanh(x), 1/(1+x), 1/(1+x)**2, 1/(1-x), -ln(1-x), \n",
        "       1/(1+x**2), exp(x)*(1+x), exp(x)*(1-x), 1/(1+x)**2, 1/(1-x)**2, 1/(1-x)**3, 1/(1-x**2), log(3+4*x)]"
      ]
    },
    {
      "cell_type": "code",
      "execution_count": 7,
      "metadata": {
        "colab": {
          "base_uri": "https://localhost:8080/",
          "height": 221
        },
        "id": "NSaTOZhfCvnn",
        "outputId": "2eaadc17-26c9-4056-c048-900d27c2e242"
      },
      "outputs": [
        {
          "output_type": "execute_result",
          "data": {
            "text/plain": [
              "        function                                 expansion\n",
              "0    sqrt(x + 1)  -5*x**4/128 + x**3/16 - x**2/8 + x/2 + 1\n",
              "1  (1 - x)**(-3)      15*x**4 + 10*x**3 + 6*x**2 + 3*x + 1\n",
              "2    exp(sin(x))                  -x**4/8 + x**2/2 + x + 1\n",
              "3        atan(x)                               -x**3/3 + x\n",
              "4       exp(2*x)    2*x**4/3 + 4*x**3/3 + 2*x**2 + 2*x + 1"
            ],
            "text/html": [
              "\n",
              "  <div id=\"df-f9d75179-7c19-466d-adc9-3aa427cd8cec\">\n",
              "    <div class=\"colab-df-container\">\n",
              "      <div>\n",
              "<style scoped>\n",
              "    .dataframe tbody tr th:only-of-type {\n",
              "        vertical-align: middle;\n",
              "    }\n",
              "\n",
              "    .dataframe tbody tr th {\n",
              "        vertical-align: top;\n",
              "    }\n",
              "\n",
              "    .dataframe thead th {\n",
              "        text-align: right;\n",
              "    }\n",
              "</style>\n",
              "<table border=\"1\" class=\"dataframe\">\n",
              "  <thead>\n",
              "    <tr style=\"text-align: right;\">\n",
              "      <th></th>\n",
              "      <th>function</th>\n",
              "      <th>expansion</th>\n",
              "    </tr>\n",
              "  </thead>\n",
              "  <tbody>\n",
              "    <tr>\n",
              "      <th>0</th>\n",
              "      <td>sqrt(x + 1)</td>\n",
              "      <td>-5*x**4/128 + x**3/16 - x**2/8 + x/2 + 1</td>\n",
              "    </tr>\n",
              "    <tr>\n",
              "      <th>1</th>\n",
              "      <td>(1 - x)**(-3)</td>\n",
              "      <td>15*x**4 + 10*x**3 + 6*x**2 + 3*x + 1</td>\n",
              "    </tr>\n",
              "    <tr>\n",
              "      <th>2</th>\n",
              "      <td>exp(sin(x))</td>\n",
              "      <td>-x**4/8 + x**2/2 + x + 1</td>\n",
              "    </tr>\n",
              "    <tr>\n",
              "      <th>3</th>\n",
              "      <td>atan(x)</td>\n",
              "      <td>-x**3/3 + x</td>\n",
              "    </tr>\n",
              "    <tr>\n",
              "      <th>4</th>\n",
              "      <td>exp(2*x)</td>\n",
              "      <td>2*x**4/3 + 4*x**3/3 + 2*x**2 + 2*x + 1</td>\n",
              "    </tr>\n",
              "  </tbody>\n",
              "</table>\n",
              "</div>\n",
              "      <button class=\"colab-df-convert\" onclick=\"convertToInteractive('df-f9d75179-7c19-466d-adc9-3aa427cd8cec')\"\n",
              "              title=\"Convert this dataframe to an interactive table.\"\n",
              "              style=\"display:none;\">\n",
              "        \n",
              "  <svg xmlns=\"http://www.w3.org/2000/svg\" height=\"24px\"viewBox=\"0 0 24 24\"\n",
              "       width=\"24px\">\n",
              "    <path d=\"M0 0h24v24H0V0z\" fill=\"none\"/>\n",
              "    <path d=\"M18.56 5.44l.94 2.06.94-2.06 2.06-.94-2.06-.94-.94-2.06-.94 2.06-2.06.94zm-11 1L8.5 8.5l.94-2.06 2.06-.94-2.06-.94L8.5 2.5l-.94 2.06-2.06.94zm10 10l.94 2.06.94-2.06 2.06-.94-2.06-.94-.94-2.06-.94 2.06-2.06.94z\"/><path d=\"M17.41 7.96l-1.37-1.37c-.4-.4-.92-.59-1.43-.59-.52 0-1.04.2-1.43.59L10.3 9.45l-7.72 7.72c-.78.78-.78 2.05 0 2.83L4 21.41c.39.39.9.59 1.41.59.51 0 1.02-.2 1.41-.59l7.78-7.78 2.81-2.81c.8-.78.8-2.07 0-2.86zM5.41 20L4 18.59l7.72-7.72 1.47 1.35L5.41 20z\"/>\n",
              "  </svg>\n",
              "      </button>\n",
              "      \n",
              "  <style>\n",
              "    .colab-df-container {\n",
              "      display:flex;\n",
              "      flex-wrap:wrap;\n",
              "      gap: 12px;\n",
              "    }\n",
              "\n",
              "    .colab-df-convert {\n",
              "      background-color: #E8F0FE;\n",
              "      border: none;\n",
              "      border-radius: 50%;\n",
              "      cursor: pointer;\n",
              "      display: none;\n",
              "      fill: #1967D2;\n",
              "      height: 32px;\n",
              "      padding: 0 0 0 0;\n",
              "      width: 32px;\n",
              "    }\n",
              "\n",
              "    .colab-df-convert:hover {\n",
              "      background-color: #E2EBFA;\n",
              "      box-shadow: 0px 1px 2px rgba(60, 64, 67, 0.3), 0px 1px 3px 1px rgba(60, 64, 67, 0.15);\n",
              "      fill: #174EA6;\n",
              "    }\n",
              "\n",
              "    [theme=dark] .colab-df-convert {\n",
              "      background-color: #3B4455;\n",
              "      fill: #D2E3FC;\n",
              "    }\n",
              "\n",
              "    [theme=dark] .colab-df-convert:hover {\n",
              "      background-color: #434B5C;\n",
              "      box-shadow: 0px 1px 3px 1px rgba(0, 0, 0, 0.15);\n",
              "      filter: drop-shadow(0px 1px 2px rgba(0, 0, 0, 0.3));\n",
              "      fill: #FFFFFF;\n",
              "    }\n",
              "  </style>\n",
              "\n",
              "      <script>\n",
              "        const buttonEl =\n",
              "          document.querySelector('#df-f9d75179-7c19-466d-adc9-3aa427cd8cec button.colab-df-convert');\n",
              "        buttonEl.style.display =\n",
              "          google.colab.kernel.accessAllowed ? 'block' : 'none';\n",
              "\n",
              "        async function convertToInteractive(key) {\n",
              "          const element = document.querySelector('#df-f9d75179-7c19-466d-adc9-3aa427cd8cec');\n",
              "          const dataTable =\n",
              "            await google.colab.kernel.invokeFunction('convertToInteractive',\n",
              "                                                     [key], {});\n",
              "          if (!dataTable) return;\n",
              "\n",
              "          const docLinkHtml = 'Like what you see? Visit the ' +\n",
              "            '<a target=\"_blank\" href=https://colab.research.google.com/notebooks/data_table.ipynb>data table notebook</a>'\n",
              "            + ' to learn more about interactive tables.';\n",
              "          element.innerHTML = '';\n",
              "          dataTable['output_type'] = 'display_data';\n",
              "          await google.colab.output.renderOutput(dataTable, element);\n",
              "          const docLink = document.createElement('div');\n",
              "          docLink.innerHTML = docLinkHtml;\n",
              "          element.appendChild(docLink);\n",
              "        }\n",
              "      </script>\n",
              "    </div>\n",
              "  </div>\n",
              "  "
            ]
          },
          "metadata": {},
          "execution_count": 7
        }
      ],
      "source": [
        "# Data\n",
        "data = Data(order, types)\n",
        "df = data.generate()\n",
        "df.head()"
      ]
    },
    {
      "cell_type": "code",
      "execution_count": 8,
      "metadata": {
        "id": "xGu0HckXC7W0"
      },
      "outputs": [],
      "source": [
        "# Tokenize the dataset\n",
        "df_token = data.tokenize(df)"
      ]
    },
    {
      "cell_type": "code",
      "execution_count": 9,
      "metadata": {
        "id": "ybTtgdv_DDPQ"
      },
      "outputs": [],
      "source": [
        "vocab_to_int, int_to_vocab = data.get_tokens_dict()"
      ]
    },
    {
      "cell_type": "markdown",
      "source": [
        "Importing dataset and predict class from utils.py"
      ],
      "metadata": {
        "id": "m8jVG130qLoK"
      }
    },
    {
      "cell_type": "code",
      "execution_count": 10,
      "metadata": {
        "id": "Vnewfna1Dtj1"
      },
      "outputs": [],
      "source": [
        "from utils import TrainDataset, TestDataset, Predict"
      ]
    },
    {
      "cell_type": "code",
      "execution_count": 11,
      "metadata": {
        "id": "lFbr4IKQFY8Q"
      },
      "outputs": [],
      "source": [
        "data = TrainDataset(df_token)"
      ]
    },
    {
      "cell_type": "markdown",
      "source": [
        "Training the model"
      ],
      "metadata": {
        "id": "0p81qjvfqSXp"
      }
    },
    {
      "cell_type": "code",
      "execution_count": 12,
      "metadata": {
        "colab": {
          "base_uri": "https://localhost:8080/"
        },
        "id": "PQ_TXtLBF8x0",
        "outputId": "10fa7bbd-72d9-4a66-826c-b9a822f0e104"
      },
      "outputs": [
        {
          "output_type": "stream",
          "name": "stdout",
          "text": [
            "Epoch 1 - Loss: 4.2486\n",
            "Epoch 1000 - Loss: 0.3835\n",
            "Epoch 2000 - Loss: 0.1567\n",
            "Epoch 3000 - Loss: 0.9515\n",
            "Epoch 4000 - Loss: 0.0399\n",
            "Epoch 5000 - Loss: 0.4747\n",
            "Epoch 6000 - Loss: 0.0186\n",
            "Epoch 7000 - Loss: 0.0228\n",
            "Epoch 8000 - Loss: 0.0141\n",
            "Epoch 9000 - Loss: 0.0153\n",
            "Epoch 10000 - Loss: 0.0102\n",
            "Epoch 11000 - Loss: 0.3599\n",
            "Epoch 12000 - Loss: 0.0126\n",
            "Epoch 13000 - Loss: 0.0073\n",
            "Epoch 14000 - Loss: 0.0124\n",
            "Epoch 15000 - Loss: 0.0067\n"
          ]
        }
      ],
      "source": [
        "# Hyperparameter\n",
        "epoch = 15000\n",
        "batch_size = 1\n",
        "input_size = 1\n",
        "hidden_size = 64\n",
        "num_layers = 2\n",
        "output_size = len(vocab_to_int) + 1\n",
        "model_type = \"LSTM\" # Change it to \"Transformer\" to train the transformer model\n",
        "\n",
        "# Triaining the model\n",
        "from train import Train\n",
        "from torch.utils.data import DataLoader\n",
        "train_obj = Train(epoch, batch_size, input_size, hidden_size, \n",
        "                  num_layers, output_size)\n",
        "train_loader = DataLoader(data, batch_size=batch_size, shuffle=True)\n",
        "losses = train_obj.run(train_loader, model_type)"
      ]
    },
    {
      "cell_type": "code",
      "source": [
        "import matplotlib.pyplot as plt\n",
        "epoch_list = []\n",
        "for i in range(epoch):\n",
        "  if (i+1)%1000 == 0 or i == 0:\n",
        "    epoch_list.append(i+1)\n",
        "\n",
        "plt.plot(epoch_list, losses)\n",
        "plt.ylabel('Loss')\n",
        "plt.xlabel('Epoch')\n",
        "plt.title(\"Loss vs Epoch Curve\")"
      ],
      "metadata": {
        "colab": {
          "base_uri": "https://localhost:8080/",
          "height": 509
        },
        "id": "8-MNy1RspUCj",
        "outputId": "eac21994-cee0-4afb-9c3a-72c74388bf9b"
      },
      "execution_count": 13,
      "outputs": [
        {
          "output_type": "execute_result",
          "data": {
            "text/plain": [
              "Text(0.5, 1.0, 'Loss vs Epoch Curve')"
            ]
          },
          "metadata": {},
          "execution_count": 13
        },
        {
          "output_type": "display_data",
          "data": {
            "text/plain": [
              "<Figure size 640x480 with 1 Axes>"
            ],
            "image/png": "[encoded data removed]"
          },
          "metadata": {}
        }
      ]
    },
    {
      "cell_type": "code",
      "execution_count": 14,
      "metadata": {
        "colab": {
          "base_uri": "https://localhost:8080/",
          "height": 58
        },
        "id": "A-n1ndzzI8kM",
        "outputId": "7bcf7180-dcca-4806-936c-f1268883a7b5"
      },
      "outputs": [
        {
          "output_type": "execute_result",
          "data": {
            "text/plain": [
              "'-x**3/6 + x'"
            ],
            "application/vnd.google.colaboratory.intrinsic+json": {
              "type": "string"
            }
          },
          "metadata": {},
          "execution_count": 14
        }
      ],
      "source": [
        "# Prediction for function sqrt(x + 1)\n",
        "example = \"sin(x)\"\n",
        "model = train_obj.get_model()\n",
        "pred_obj = Predict(example, model, vocab_to_int, int_to_vocab)\n",
        "ans = pred_obj.predict()\n",
        "ans"
      ]
    },
    {
      "cell_type": "code",
      "execution_count": 15,
      "metadata": {
        "colab": {
          "base_uri": "https://localhost:8080/",
          "height": 58
        },
        "id": "UiUUdlPDNGvv",
        "outputId": "dc3b1476-0d04-4348-b1a7-fd97895cf9fa"
      },
      "outputs": [
        {
          "output_type": "execute_result",
          "data": {
            "text/plain": [
              "'15*x**4 + 10*x**3 + 6*x**2 + 3*x + 1'"
            ],
            "application/vnd.google.colaboratory.intrinsic+json": {
              "type": "string"
            }
          },
          "metadata": {},
          "execution_count": 15
        }
      ],
      "source": [
        "# Prediction for function (1 - x)**(-3)\n",
        "ex_2 = \"(1 - x)**(-3)\"\n",
        "pred_obj_2 = Predict(ex_2, model, vocab_to_int, int_to_vocab)\n",
        "ans_2 = pred_obj_2.predict()\n",
        "ans_2"
      ]
    },
    {
      "cell_type": "code",
      "source": [],
      "metadata": {
        "id": "ALy7QJ3yXVoP"
      },
      "execution_count": 15,
      "outputs": []
    }
  ],
  "metadata": {
    "accelerator": "GPU",
    "colab": {
      "provenance": []
    },
    "gpuClass": "standard",
    "kernelspec": {
      "display_name": "Python 3",
      "name": "python3"
    },
    "language_info": {
      "name": "python"
    }
  },
  "nbformat": 4,
  "nbformat_minor": 0
}